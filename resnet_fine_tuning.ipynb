{
  "cells": [
    {
      "cell_type": "code",
      "execution_count": 1,
      "id": "cbe21af2",
      "metadata": {
        "scrolled": true,
        "id": "cbe21af2",
        "outputId": "c98a8626-d24e-41a4-f5f8-190169f2fbeb",
        "colab": {
          "base_uri": "https://localhost:8080/",
          "height": 341
        }
      },
      "outputs": [
        {
          "output_type": "error",
          "ename": "ValueError",
          "evalue": "File format not supported: filepath=resnet_model_3_aug. Keras 3 only supports V3 `.keras` files and legacy H5 format files (`.h5` extension). Note that the legacy SavedModel format is not supported by `load_model()` in Keras 3. In order to reload a TensorFlow SavedModel as an inference-only layer in Keras 3, use `keras.layers.TFSMLayer(resnet_model_3_aug, call_endpoint='serving_default')` (note that your `call_endpoint` might have a different name).",
          "traceback": [
            "\u001b[0;31m---------------------------------------------------------------------------\u001b[0m",
            "\u001b[0;31mValueError\u001b[0m                                Traceback (most recent call last)",
            "\u001b[0;32m<ipython-input-1-2ef96bac765e>\u001b[0m in \u001b[0;36m<cell line: 0>\u001b[0;34m()\u001b[0m\n\u001b[1;32m      2\u001b[0m \u001b[0;34m\u001b[0m\u001b[0m\n\u001b[1;32m      3\u001b[0m \u001b[0mmodel_path\u001b[0m \u001b[0;34m=\u001b[0m \u001b[0;34m\"resnet_model_3_aug\"\u001b[0m\u001b[0;34m\u001b[0m\u001b[0;34m\u001b[0m\u001b[0m\n\u001b[0;32m----> 4\u001b[0;31m \u001b[0mmodel\u001b[0m \u001b[0;34m=\u001b[0m \u001b[0mload_model\u001b[0m\u001b[0;34m(\u001b[0m\u001b[0mmodel_path\u001b[0m\u001b[0;34m)\u001b[0m\u001b[0;34m\u001b[0m\u001b[0;34m\u001b[0m\u001b[0m\n\u001b[0m",
            "\u001b[0;32m/usr/local/lib/python3.11/dist-packages/keras/src/saving/saving_api.py\u001b[0m in \u001b[0;36mload_model\u001b[0;34m(filepath, custom_objects, compile, safe_mode)\u001b[0m\n\u001b[1;32m    204\u001b[0m         )\n\u001b[1;32m    205\u001b[0m     \u001b[0;32melse\u001b[0m\u001b[0;34m:\u001b[0m\u001b[0;34m\u001b[0m\u001b[0;34m\u001b[0m\u001b[0m\n\u001b[0;32m--> 206\u001b[0;31m         raise ValueError(\n\u001b[0m\u001b[1;32m    207\u001b[0m             \u001b[0;34mf\"File format not supported: filepath={filepath}. \"\u001b[0m\u001b[0;34m\u001b[0m\u001b[0;34m\u001b[0m\u001b[0m\n\u001b[1;32m    208\u001b[0m             \u001b[0;34m\"Keras 3 only supports V3 `.keras` files and \"\u001b[0m\u001b[0;34m\u001b[0m\u001b[0;34m\u001b[0m\u001b[0m\n",
            "\u001b[0;31mValueError\u001b[0m: File format not supported: filepath=resnet_model_3_aug. Keras 3 only supports V3 `.keras` files and legacy H5 format files (`.h5` extension). Note that the legacy SavedModel format is not supported by `load_model()` in Keras 3. In order to reload a TensorFlow SavedModel as an inference-only layer in Keras 3, use `keras.layers.TFSMLayer(resnet_model_3_aug, call_endpoint='serving_default')` (note that your `call_endpoint` might have a different name)."
          ]
        }
      ],
      "source": [
        "from tensorflow.keras.models import load_model\n",
        "\n",
        "model_path = \"resnet_model_3_aug\"\n",
        "model = load_model(model_path)"
      ]
    },
    {
      "cell_type": "code",
      "execution_count": null,
      "id": "cba61038",
      "metadata": {
        "id": "cba61038"
      },
      "outputs": [],
      "source": [
        "from custom_transformers import SquareCutout, CircleCutout"
      ]
    },
    {
      "cell_type": "code",
      "execution_count": null,
      "id": "15bff9b1",
      "metadata": {
        "id": "15bff9b1"
      },
      "outputs": [],
      "source": [
        "from torchvision import transforms as T\n",
        "import tensorflow as tf"
      ]
    },
    {
      "cell_type": "code",
      "execution_count": null,
      "id": "b6b2fa0c",
      "metadata": {
        "id": "b6b2fa0c"
      },
      "outputs": [],
      "source": [
        "from tensorflow.keras.utils import Sequence\n",
        "from tensorflow.keras.applications.resnet50 import preprocess_input\n",
        "import cv2\n",
        "import numpy as np\n",
        "from PIL import Image\n",
        "import random, os,torch"
      ]
    },
    {
      "cell_type": "code",
      "execution_count": null,
      "id": "15bd1e0f",
      "metadata": {
        "id": "15bd1e0f"
      },
      "outputs": [],
      "source": [
        "def seed_everything(seed: int=42):\n",
        "    random.seed(seed)\n",
        "    os.environ['PYTHONHASHSEED'] = str(seed)\n",
        "    np.random.seed(seed)\n",
        "    torch.manual_seed(seed)\n",
        "    torch.cuda.manual_seed(seed)\n",
        "    torch.cuda.manual_seed_all(seed)\n",
        "    torch.backends.cudnn.deterministic = True\n",
        "    torch.backends.cudnn.benchmark = False\n",
        "\n",
        "\n",
        "seed_everything(42)"
      ]
    },
    {
      "cell_type": "code",
      "execution_count": null,
      "id": "845e5336",
      "metadata": {
        "scrolled": true,
        "id": "845e5336",
        "outputId": "7dafa017-28b6-4705-cd5e-2a8ddfac6ef0"
      },
      "outputs": [
        {
          "name": "stdout",
          "output_type": "stream",
          "text": [
            "X_train.shape: (50000, 32, 32, 3) \n",
            "Y_train.shape: (50000, 1) \n",
            "X_test.shape: (10000, 32, 32, 3) \n",
            "Y_test.shape: (10000, 1)\n"
          ]
        }
      ],
      "source": [
        "cifar10 = tf.keras.datasets.cifar10\n",
        "\n",
        "(X_train, Y_train), (X_test, Y_test) = cifar10.load_data()\n",
        "print(f\"X_train.shape: {X_train.shape} \\nY_train.shape: {Y_train.shape} \\nX_test.shape: {X_test.shape} \\nY_test.shape: {Y_test.shape}\")\n"
      ]
    },
    {
      "cell_type": "code",
      "execution_count": null,
      "id": "d4dc104e",
      "metadata": {
        "id": "d4dc104e"
      },
      "outputs": [],
      "source": [
        "\n",
        "class AugmentedCIFAR10ResNetGenerator(Sequence):\n",
        "    def __init__(self, x_data, y_data, batch_size=32, shuffle=True, augmenter=None):\n",
        "        self.x = x_data\n",
        "        self.y = y_data\n",
        "        self.batch_size = batch_size\n",
        "        self.shuffle = shuffle\n",
        "        self.augmenter = augmenter\n",
        "        self.indices = np.arange(len(self.x))\n",
        "\n",
        "    def __len__(self):\n",
        "        return int(np.ceil(len(self.x) / self.batch_size))\n",
        "\n",
        "    def on_epoch_end(self):\n",
        "        if self.shuffle:\n",
        "            np.random.shuffle(self.indices)\n",
        "\n",
        "    def __getitem__(self, index):\n",
        "        batch_indices = self.indices[index * self.batch_size:(index + 1) * self.batch_size]\n",
        "        batch_x = self.x[batch_indices]\n",
        "        batch_y = self.y[batch_indices]\n",
        "\n",
        "        #augmentation using selected augmenter\n",
        "        batch_x_aug = np.array([self.augmenter(img, label)[0] for img, label in zip(batch_x, batch_y)])\n",
        "\n",
        "        #resize each image to 224x224 using OpenCV\n",
        "        batch_x_resized = np.array([cv2.resize(img, (224, 224)) for img in batch_x_aug])\n",
        "\n",
        "        #preprocess for ResNet50\n",
        "        batch_x_preprocessed = preprocess_input(batch_x_resized.astype(np.float32))\n",
        "\n",
        "        return batch_x_preprocessed, batch_y\n",
        "\n"
      ]
    },
    {
      "cell_type": "code",
      "execution_count": null,
      "id": "43917b67",
      "metadata": {
        "id": "43917b67"
      },
      "outputs": [],
      "source": [
        "Y_train = Y_train.squeeze()\n",
        "Y_test = Y_test.squeeze()"
      ]
    },
    {
      "cell_type": "code",
      "execution_count": null,
      "id": "0ac35471",
      "metadata": {
        "id": "0ac35471"
      },
      "outputs": [],
      "source": [
        "num_samples = len(X_train)\n",
        "subset_size = num_samples // 10  #10% of training data\n",
        "\n",
        "indices = np.random.permutation(num_samples)\n",
        "subset_indices = indices[:subset_size]\n",
        "\n",
        "X_subset = X_train[subset_indices]\n",
        "Y_subset = Y_train[subset_indices]"
      ]
    },
    {
      "cell_type": "code",
      "execution_count": null,
      "id": "d2587d3f",
      "metadata": {
        "id": "d2587d3f"
      },
      "outputs": [],
      "source": [
        "augmenter = SquareCutout(size=16, color=False)\n",
        "augmented_train_gen = AugmentedCIFAR10ResNetGenerator(X_subset, Y_subset, batch_size=32, augmenter=augmenter)"
      ]
    }
  ],
  "metadata": {
    "kernelspec": {
      "display_name": "Python 3 (ipykernel)",
      "language": "python",
      "name": "python3"
    },
    "language_info": {
      "codemirror_mode": {
        "name": "ipython",
        "version": 3
      },
      "file_extension": ".py",
      "mimetype": "text/x-python",
      "name": "python",
      "nbconvert_exporter": "python",
      "pygments_lexer": "ipython3",
      "version": "3.9.12"
    },
    "colab": {
      "provenance": []
    }
  },
  "nbformat": 4,
  "nbformat_minor": 5
}