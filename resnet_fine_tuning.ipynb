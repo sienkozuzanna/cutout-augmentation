{
 "cells": [
  {
   "cell_type": "code",
   "execution_count": 3,
   "id": "cbe21af2",
   "metadata": {
    "scrolled": true
   },
   "outputs": [
    {
     "name": "stderr",
     "output_type": "stream",
     "text": [
      "WARNING:absl:Compiled the loaded model, but the compiled metrics have yet to be built. `model.compile_metrics` will be empty until you train or evaluate the model.\n"
     ]
    }
   ],
   "source": [
    "from tensorflow.keras.models import load_model\n",
    "\n",
    "model_path = \"resnet_model_3_aug\"\n",
    "model = load_model(model_path)"
   ]
  },
  {
   "cell_type": "code",
   "execution_count": 4,
   "id": "cba61038",
   "metadata": {},
   "outputs": [],
   "source": [
    "from custom_transformers import SquareCutout, CircleCutout"
   ]
  },
  {
   "cell_type": "code",
   "execution_count": 5,
   "id": "15bff9b1",
   "metadata": {},
   "outputs": [],
   "source": [
    "from torchvision import transforms as T\n",
    "import tensorflow as tf "
   ]
  },
  {
   "cell_type": "code",
   "execution_count": 22,
   "id": "b6b2fa0c",
   "metadata": {},
   "outputs": [],
   "source": [
    "from tensorflow.keras.utils import Sequence\n",
    "from tensorflow.keras.applications.resnet50 import preprocess_input\n",
    "import cv2\n",
    "import numpy as np\n",
    "from PIL import Image\n",
    "import random, os,torch"
   ]
  },
  {
   "cell_type": "code",
   "execution_count": 24,
   "id": "15bd1e0f",
   "metadata": {},
   "outputs": [],
   "source": [
    "def seed_everything(seed: int=42):\n",
    "    random.seed(seed)\n",
    "    os.environ['PYTHONHASHSEED'] = str(seed)\n",
    "    np.random.seed(seed)\n",
    "    torch.manual_seed(seed)\n",
    "    torch.cuda.manual_seed(seed)\n",
    "    torch.cuda.manual_seed_all(seed)\n",
    "    torch.backends.cudnn.deterministic = True\n",
    "    torch.backends.cudnn.benchmark = False\n",
    "\n",
    "\n",
    "seed_everything(42)"
   ]
  },
  {
   "cell_type": "code",
   "execution_count": 25,
   "id": "845e5336",
   "metadata": {
    "scrolled": true
   },
   "outputs": [
    {
     "name": "stdout",
     "output_type": "stream",
     "text": [
      "X_train.shape: (50000, 32, 32, 3) \n",
      "Y_train.shape: (50000, 1) \n",
      "X_test.shape: (10000, 32, 32, 3) \n",
      "Y_test.shape: (10000, 1)\n"
     ]
    }
   ],
   "source": [
    "cifar10 = tf.keras.datasets.cifar10\n",
    "\n",
    "(X_train, Y_train), (X_test, Y_test) = cifar10.load_data()\n",
    "print(f\"X_train.shape: {X_train.shape} \\nY_train.shape: {Y_train.shape} \\nX_test.shape: {X_test.shape} \\nY_test.shape: {Y_test.shape}\")\n"
   ]
  },
  {
   "cell_type": "code",
   "execution_count": 26,
   "id": "d4dc104e",
   "metadata": {},
   "outputs": [],
   "source": [
    "\n",
    "class AugmentedCIFAR10ResNetGenerator(Sequence):\n",
    "    def __init__(self, x_data, y_data, batch_size=32, shuffle=True, augmenter=None):\n",
    "        self.x = x_data\n",
    "        self.y = y_data\n",
    "        self.batch_size = batch_size\n",
    "        self.shuffle = shuffle\n",
    "        self.augmenter = augmenter\n",
    "        self.indices = np.arange(len(self.x))\n",
    "\n",
    "    def __len__(self):\n",
    "        return int(np.ceil(len(self.x) / self.batch_size))\n",
    "\n",
    "    def on_epoch_end(self):\n",
    "        if self.shuffle:\n",
    "            np.random.shuffle(self.indices)\n",
    "\n",
    "    def __getitem__(self, index):\n",
    "        batch_indices = self.indices[index * self.batch_size:(index + 1) * self.batch_size]\n",
    "        batch_x = self.x[batch_indices]\n",
    "        batch_y = self.y[batch_indices]\n",
    "        \n",
    "        #augmentation using selected augmenter\n",
    "        batch_x_aug = np.array([self.augmenter(img, label)[0] for img, label in zip(batch_x, batch_y)])\n",
    "\n",
    "        #resize each image to 224x224 using OpenCV\n",
    "        batch_x_resized = np.array([cv2.resize(img, (224, 224)) for img in batch_x])\n",
    "\n",
    "        #preprocess for ResNet50\n",
    "        batch_x_preprocessed = preprocess_input(batch_x_resized.astype(np.float32))\n",
    "\n",
    "        return batch_x_preprocessed, batch_y\n",
    "\n"
   ]
  },
  {
   "cell_type": "code",
   "execution_count": 27,
   "id": "43917b67",
   "metadata": {},
   "outputs": [],
   "source": [
    "Y_train = Y_train.squeeze()\n",
    "Y_test = Y_test.squeeze()"
   ]
  },
  {
   "cell_type": "code",
   "execution_count": 28,
   "id": "0ac35471",
   "metadata": {},
   "outputs": [],
   "source": [
    "num_samples = len(X_train)\n",
    "subset_size = num_samples // 10  #10% of training data\n",
    "\n",
    "indices = np.random.permutation(num_samples)\n",
    "subset_indices = indices[:subset_size]\n",
    "\n",
    "X_subset = X_train[subset_indices]\n",
    "Y_subset = Y_train[subset_indices]"
   ]
  },
  {
   "cell_type": "code",
   "execution_count": 34,
   "id": "d2587d3f",
   "metadata": {},
   "outputs": [],
   "source": [
    "augmenter = SquareCutout(size=16, color=False)\n",
    "augmented_train_gen = AugmentedCIFAR10ResNetGenerator(X_subset, Y_subset, batch_size=32, augmenter=augmenter)"
   ]
  }
 ],
 "metadata": {
  "kernelspec": {
   "display_name": "Python 3 (ipykernel)",
   "language": "python",
   "name": "python3"
  },
  "language_info": {
   "codemirror_mode": {
    "name": "ipython",
    "version": 3
   },
   "file_extension": ".py",
   "mimetype": "text/x-python",
   "name": "python",
   "nbconvert_exporter": "python",
   "pygments_lexer": "ipython3",
   "version": "3.9.12"
  }
 },
 "nbformat": 4,
 "nbformat_minor": 5
}
