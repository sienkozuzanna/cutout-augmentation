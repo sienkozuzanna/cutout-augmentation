{
 "cells": [
  {
   "cell_type": "code",
   "execution_count": 1,
   "id": "653be9a0",
   "metadata": {
    "id": "653be9a0"
   },
   "outputs": [
    {
     "name": "stderr",
     "output_type": "stream",
     "text": [
      "C:\\Users\\basiu\\anaconda3\\lib\\site-packages\\scipy\\__init__.py:146: UserWarning: A NumPy version >=1.16.5 and <1.23.0 is required for this version of SciPy (detected version 1.26.4\n",
      "  warnings.warn(f\"A NumPy version >={np_minversion} and <{np_maxversion}\"\n"
     ]
    }
   ],
   "source": [
    "from sklearn.model_selection import train_test_split\n",
    "from tensorflow.keras.datasets import fashion_mnist\n",
    "import torch\n",
    "import torch.nn.functional as F\n",
    "from tensorflow.keras.layers import Input, Conv2D, Dense, Flatten, Dropout\n",
    "from tensorflow.keras.layers import BatchNormalization\n",
    "from tensorflow.keras.models import Model\n",
    "from tensorflow.keras.layers import GlobalMaxPooling2D, MaxPooling2D\n",
    "import torchvision\n",
    "from torchvision import transforms as T\n",
    "import tensorflow as tf\n",
    "import matplotlib.pyplot as plt\n",
    "import random\n",
    "import os\n",
    "from tensorflow.keras.utils import to_categorical\n",
    "import numpy as np\n",
    "from sklearn.metrics import classification_report,  confusion_matrix, ConfusionMatrixDisplay\n",
    "from custom_transformers import *\n",
    "from augmentation_generator_batch_size import *"
   ]
  },
  {
   "cell_type": "code",
   "execution_count": 2,
   "id": "f0253309",
   "metadata": {
    "id": "f0253309"
   },
   "outputs": [],
   "source": [
    "def seed_everything(seed: int=42):\n",
    "    random.seed(seed)\n",
    "    os.environ['PYTHONHASHSEED'] = str(seed)\n",
    "    np.random.seed(seed)\n",
    "    torch.manual_seed(seed)\n",
    "    torch.cuda.manual_seed(seed)\n",
    "    torch.cuda.manual_seed_all(seed)\n",
    "    torch.backends.cudnn.deterministic = True\n",
    "    torch.backends.cudnn.benchmark = False\n",
    "\n",
    "\n",
    "seed_everything(51)"
   ]
  },
  {
   "cell_type": "markdown",
   "id": "784f3410",
   "metadata": {
    "id": "784f3410"
   },
   "source": [
    "## Load data"
   ]
  },
  {
   "cell_type": "code",
   "execution_count": 3,
   "id": "a8c244d9",
   "metadata": {
    "colab": {
     "base_uri": "https://localhost:8080/"
    },
    "id": "a8c244d9",
    "outputId": "a9389188-553f-4bfb-9f39-1fb339d5799f"
   },
   "outputs": [
    {
     "name": "stdout",
     "output_type": "stream",
     "text": [
      "X_train.shape: (60000, 28, 28, 3) \n",
      "Y_train.shape: (60000, 10) \n",
      "X_test.shape: (10000, 28, 28, 3) \n",
      "Y_test.shape: (10000, 10)\n"
     ]
    }
   ],
   "source": [
    "fashion_mnist = tf.keras.datasets.fashion_mnist\n",
    "(X_train, Y_train), (X_test, Y_test) = fashion_mnist.load_data()\n",
    "\n",
    "X_train = np.expand_dims(X_train, -1)\n",
    "X_test = np.expand_dims(X_test, -1)\n",
    "\n",
    "# Konwersja do RGB\n",
    "X_train = np.repeat(X_train, 3, axis=-1)\n",
    "X_test = np.repeat(X_test, 3, axis=-1)\n",
    "\n",
    "# One-hot\n",
    "Y_train = to_categorical(Y_train.flatten())\n",
    "Y_test = to_categorical(Y_test.flatten())\n",
    "\n",
    "k = Y_train.shape[1]\n",
    "\n",
    "print(f\"X_train.shape: {X_train.shape} \\nY_train.shape: {Y_train.shape} \\nX_test.shape: {X_test.shape} \\nY_test.shape: {Y_test.shape}\")"
   ]
  },
  {
   "cell_type": "markdown",
   "id": "KNnWBERRQczg",
   "metadata": {
    "id": "KNnWBERRQczg"
   },
   "source": [
    "## CNN Random Square Cutout without soft labeling"
   ]
  },
  {
   "cell_type": "markdown",
   "id": "a00e29d6",
   "metadata": {},
   "source": [
    "### max_size_ratio = 0.1, max_number_of_squares = 25"
   ]
  },
  {
   "cell_type": "code",
   "execution_count": 4,
   "id": "MSVx2mrcTqhQ",
   "metadata": {
    "id": "MSVx2mrcTqhQ"
   },
   "outputs": [],
   "source": [
    "square_cutout = RandomSquaresCutout(max_size_ratio = 0.1, max_number_of_squares = 25)\n",
    "\n",
    "train_generator = AugmentedCIFAR10Generator(X_train, Y_train, batch_size=32, shuffle=True, augmentor = square_cutout, augment_fraction=0.2, num_classes=10, overwrite=False, soft_label=False)\n",
    "test_generator = AugmentedCIFAR10Generator(X_test, Y_test, batch_size=32, augmentor=None, shuffle=False)"
   ]
  },
  {
   "cell_type": "code",
   "execution_count": 5,
   "id": "9W7Vpy_hUZ5h",
   "metadata": {
    "id": "9W7Vpy_hUZ5h"
   },
   "outputs": [],
   "source": [
    "k = Y_train.shape[1]\n",
    "i = Input(shape=X_train[0].shape)\n",
    "\n",
    "x = Conv2D(32, (3, 3), activation='relu', padding='same')(i)\n",
    "x = BatchNormalization()(x)\n",
    "x = Conv2D(32, (3, 3), activation='relu', padding='same')(x)\n",
    "x = BatchNormalization()(x)\n",
    "x = MaxPooling2D((2, 2))(x)\n",
    "\n",
    "x = Conv2D(64, (3, 3), activation='relu', padding='same')(x)\n",
    "x = BatchNormalization()(x)\n",
    "x = Conv2D(64, (3, 3), activation='relu', padding='same')(x)\n",
    "x = BatchNormalization()(x)\n",
    "x = MaxPooling2D((2, 2))(x)\n",
    "\n",
    "x = Conv2D(128, (3, 3), activation='relu', padding='same')(x)\n",
    "x = BatchNormalization()(x)\n",
    "x = Conv2D(128, (3, 3), activation='relu', padding='same')(x)\n",
    "x = BatchNormalization()(x)\n",
    "x = MaxPooling2D((2, 2))(x)\n",
    "\n",
    "x = Flatten()(x)\n",
    "x = Dropout(0.2)(x)\n",
    "\n",
    "#hidden layer\n",
    "x = Dense(1024, activation='relu')(x)\n",
    "x = Dropout(0.2)(x)\n",
    "\n",
    "#last hidden layer i.e.. output layer\n",
    "x = Dense(k, activation='softmax')(x)\n",
    "\n",
    "model = Model(i, x)"
   ]
  },
  {
   "cell_type": "code",
   "execution_count": 6,
   "id": "y3yCFBhZU8C0",
   "metadata": {
    "colab": {
     "base_uri": "https://localhost:8080/"
    },
    "id": "y3yCFBhZU8C0",
    "outputId": "b567e4c1-61c0-4911-cab7-260f02ef4960"
   },
   "outputs": [
    {
     "name": "stdout",
     "output_type": "stream",
     "text": [
      "Epoch 1/6\n"
     ]
    },
    {
     "name": "stderr",
     "output_type": "stream",
     "text": [
      "C:\\Users\\basiu\\anaconda3\\lib\\site-packages\\keras\\src\\trainers\\data_adapters\\py_dataset_adapter.py:121: UserWarning: Your `PyDataset` class should call `super().__init__(**kwargs)` in its constructor. `**kwargs` can include `workers`, `use_multiprocessing`, `max_queue_size`. Do not pass these arguments to `fit()`, as they will be ignored.\n",
      "  self._warn_if_super_not_called()\n"
     ]
    },
    {
     "name": "stdout",
     "output_type": "stream",
     "text": [
      "\u001b[1m2250/2250\u001b[0m \u001b[32m━━━━━━━━━━━━━━━━━━━━\u001b[0m\u001b[37m\u001b[0m \u001b[1m219s\u001b[0m 95ms/step - accuracy: 0.8132 - loss: 0.5652 - val_accuracy: 0.8708 - val_loss: 0.3339\n",
      "Epoch 2/6\n",
      "\u001b[1m2250/2250\u001b[0m \u001b[32m━━━━━━━━━━━━━━━━━━━━\u001b[0m\u001b[37m\u001b[0m \u001b[1m199s\u001b[0m 89ms/step - accuracy: 0.9004 - loss: 0.2701 - val_accuracy: 0.8985 - val_loss: 0.2737\n",
      "Epoch 3/6\n",
      "\u001b[1m2250/2250\u001b[0m \u001b[32m━━━━━━━━━━━━━━━━━━━━\u001b[0m\u001b[37m\u001b[0m \u001b[1m192s\u001b[0m 85ms/step - accuracy: 0.9192 - loss: 0.2232 - val_accuracy: 0.9149 - val_loss: 0.2409\n",
      "Epoch 4/6\n",
      "\u001b[1m2250/2250\u001b[0m \u001b[32m━━━━━━━━━━━━━━━━━━━━\u001b[0m\u001b[37m\u001b[0m \u001b[1m193s\u001b[0m 86ms/step - accuracy: 0.9295 - loss: 0.1915 - val_accuracy: 0.9205 - val_loss: 0.2240\n",
      "Epoch 5/6\n",
      "\u001b[1m2250/2250\u001b[0m \u001b[32m━━━━━━━━━━━━━━━━━━━━\u001b[0m\u001b[37m\u001b[0m \u001b[1m258s\u001b[0m 114ms/step - accuracy: 0.9386 - loss: 0.1688 - val_accuracy: 0.9213 - val_loss: 0.2265\n",
      "Epoch 6/6\n",
      "\u001b[1m2250/2250\u001b[0m \u001b[32m━━━━━━━━━━━━━━━━━━━━\u001b[0m\u001b[37m\u001b[0m \u001b[1m238s\u001b[0m 106ms/step - accuracy: 0.9470 - loss: 0.1430 - val_accuracy: 0.9200 - val_loss: 0.2345\n"
     ]
    }
   ],
   "source": [
    "model.compile(optimizer='adam',\n",
    "              loss='categorical_crossentropy',\n",
    "              metrics=['accuracy'])\n",
    "\n",
    "r = model.fit(\n",
    "  train_generator, validation_data=test_generator, epochs=6)"
   ]
  },
  {
   "cell_type": "code",
   "execution_count": 7,
   "id": "afKb6f_7VgJA",
   "metadata": {
    "colab": {
     "base_uri": "https://localhost:8080/"
    },
    "id": "afKb6f_7VgJA",
    "outputId": "da8f2191-ce19-49d7-b3b1-8430b982945b"
   },
   "outputs": [
    {
     "name": "stdout",
     "output_type": "stream",
     "text": [
      "\u001b[1m313/313\u001b[0m \u001b[32m━━━━━━━━━━━━━━━━━━━━\u001b[0m\u001b[37m\u001b[0m \u001b[1m7s\u001b[0m 23ms/step\n"
     ]
    }
   ],
   "source": [
    "y_pred = model.predict(test_generator, steps=len(test_generator), verbose=1)\n",
    "y_pred_classes = np.argmax(y_pred, axis=1)\n",
    "\n",
    "y_true = np.argmax(test_generator.y_combined, axis=1)"
   ]
  },
  {
   "cell_type": "code",
   "execution_count": 8,
   "id": "27_IwrxtVmiu",
   "metadata": {
    "colab": {
     "base_uri": "https://localhost:8080/",
     "height": 780
    },
    "id": "27_IwrxtVmiu",
    "outputId": "ebeeee4a-e826-48b2-be9e-1f9c709c0049"
   },
   "outputs": [
    {
     "name": "stdout",
     "output_type": "stream",
     "text": [
      "              precision    recall  f1-score   support\n",
      "\n",
      "           0       0.93      0.80      0.86      1000\n",
      "           1       1.00      0.99      0.99      1000\n",
      "           2       0.91      0.86      0.88      1000\n",
      "           3       0.94      0.92      0.93      1000\n",
      "           4       0.88      0.88      0.88      1000\n",
      "           5       0.99      0.97      0.98      1000\n",
      "           6       0.70      0.85      0.76      1000\n",
      "           7       0.96      0.98      0.97      1000\n",
      "           8       0.99      0.98      0.98      1000\n",
      "           9       0.97      0.97      0.97      1000\n",
      "\n",
      "    accuracy                           0.92     10000\n",
      "   macro avg       0.93      0.92      0.92     10000\n",
      "weighted avg       0.93      0.92      0.92     10000\n",
      "\n"
     ]
    },
    {
     "data": {
      "image/png": "[encoded data removed]",
      "text/plain": [
       "<Figure size 432x288 with 2 Axes>"
      ]
     },
     "metadata": {
      "needs_background": "light"
     },
     "output_type": "display_data"
    }
   ],
   "source": [
    "print(classification_report(y_true, y_pred_classes))\n",
    "cm = confusion_matrix(y_true, y_pred_classes)\n",
    "disp = ConfusionMatrixDisplay(confusion_matrix=cm)\n",
    "disp.plot(cmap=plt.cm.Blues)\n",
    "plt.title(\"Confusion Matrix\")\n",
    "plt.show()"
   ]
  },
  {
   "cell_type": "code",
   "execution_count": 9,
   "id": "u0ngZcSYVrXP",
   "metadata": {
    "colab": {
     "base_uri": "https://localhost:8080/",
     "height": 508
    },
    "id": "u0ngZcSYVrXP",
    "outputId": "5f62f353-08e2-4dbe-aa4c-7b264978e11c"
   },
   "outputs": [
    {
     "name": "stdout",
     "output_type": "stream",
     "text": [
      "Final Training Accuracy: 0.9451\n",
      "Final Validation Accuracy: 0.9200\n"
     ]
    },
    {
     "data": {
      "image/png": "[encoded data removed]",
      "text/plain": [
       "<Figure size 432x288 with 1 Axes>"
      ]
     },
     "metadata": {
      "needs_background": "light"
     },
     "output_type": "display_data"
    }
   ],
   "source": [
    "print(f\"Final Training Accuracy: {r.history['accuracy'][-1]:.4f}\")\n",
    "print(f\"Final Validation Accuracy: {r.history['val_accuracy'][-1]:.4f}\")\n",
    "plt.plot(r.history['accuracy'], label='Train Accuracy', color = '#4ea2d3')\n",
    "plt.plot(r.history['val_accuracy'], label='Validation Accuracy', color = '#ce1ddd')\n",
    "plt.title(\"Accuracy per Epoch\")\n",
    "plt.xlabel(\"Epoch\")\n",
    "plt.ylabel(\"Accuracy\")\n",
    "plt.legend()\n",
    "epochs = len(r.history['accuracy'])\n",
    "plt.xticks(ticks=range(epochs))\n",
    "plt.grid(True)\n",
    "plt.show()"
   ]
  },
  {
   "cell_type": "markdown",
   "id": "Y6K7-mVgV_7z",
   "metadata": {
    "id": "Y6K7-mVgV_7z"
   },
   "source": [
    "### max_size_ratio = 0.1, max_number_of_squares = 10"
   ]
  },
  {
   "cell_type": "code",
   "execution_count": 10,
   "id": "uwLsRdMDWKvc",
   "metadata": {
    "id": "uwLsRdMDWKvc"
   },
   "outputs": [],
   "source": [
    "square_cutout = RandomSquaresCutout(max_size_ratio = 0.1, max_number_of_squares = 10)\n",
    "\n",
    "train_generator = AugmentedCIFAR10Generator(X_train, Y_train, batch_size=32, shuffle=True, augmentor=square_cutout, augment_fraction=0.2, num_classes=10, overwrite=False, soft_label=False)\n",
    "test_generator = AugmentedCIFAR10Generator(X_test, Y_test, batch_size=32, augmentor=None, shuffle=False)\n",
    "\n",
    "k = Y_train.shape[1]\n",
    "i = Input(shape=X_train[0].shape)\n",
    "\n",
    "x = Conv2D(32, (3, 3), activation='relu', padding='same')(i)\n",
    "x = BatchNormalization()(x)\n",
    "x = Conv2D(32, (3, 3), activation='relu', padding='same')(x)\n",
    "x = BatchNormalization()(x)\n",
    "x = MaxPooling2D((2, 2))(x)\n",
    "\n",
    "x = Conv2D(64, (3, 3), activation='relu', padding='same')(x)\n",
    "x = BatchNormalization()(x)\n",
    "x = Conv2D(64, (3, 3), activation='relu', padding='same')(x)\n",
    "x = BatchNormalization()(x)\n",
    "x = MaxPooling2D((2, 2))(x)\n",
    "\n",
    "x = Conv2D(128, (3, 3), activation='relu', padding='same')(x)\n",
    "x = BatchNormalization()(x)\n",
    "x = Conv2D(128, (3, 3), activation='relu', padding='same')(x)\n",
    "x = BatchNormalization()(x)\n",
    "x = MaxPooling2D((2, 2))(x)\n",
    "\n",
    "x = Flatten()(x)\n",
    "x = Dropout(0.2)(x)\n",
    "\n",
    "#hidden layer\n",
    "x = Dense(1024, activation='relu')(x)\n",
    "x = Dropout(0.2)(x)\n",
    "\n",
    "#last hidden layer i.e.. output layer\n",
    "x = Dense(k, activation='softmax')(x)\n",
    "\n",
    "model = Model(i, x)\n"
   ]
  },
  {
   "cell_type": "code",
   "execution_count": 11,
   "id": "luUOzP6KWSYj",
   "metadata": {
    "colab": {
     "base_uri": "https://localhost:8080/"
    },
    "id": "luUOzP6KWSYj",
    "outputId": "b740ed80-cc76-438d-bec9-78fb86d5778f"
   },
   "outputs": [
    {
     "name": "stdout",
     "output_type": "stream",
     "text": [
      "Epoch 1/6\n"
     ]
    },
    {
     "name": "stderr",
     "output_type": "stream",
     "text": [
      "C:\\Users\\basiu\\anaconda3\\lib\\site-packages\\keras\\src\\trainers\\data_adapters\\py_dataset_adapter.py:121: UserWarning: Your `PyDataset` class should call `super().__init__(**kwargs)` in its constructor. `**kwargs` can include `workers`, `use_multiprocessing`, `max_queue_size`. Do not pass these arguments to `fit()`, as they will be ignored.\n",
      "  self._warn_if_super_not_called()\n"
     ]
    },
    {
     "name": "stdout",
     "output_type": "stream",
     "text": [
      "\u001b[1m2250/2250\u001b[0m \u001b[32m━━━━━━━━━━━━━━━━━━━━\u001b[0m\u001b[37m\u001b[0m \u001b[1m226s\u001b[0m 98ms/step - accuracy: 0.8127 - loss: 0.5915 - val_accuracy: 0.8884 - val_loss: 0.3000\n",
      "Epoch 2/6\n",
      "\u001b[1m2250/2250\u001b[0m \u001b[32m━━━━━━━━━━━━━━━━━━━━\u001b[0m\u001b[37m\u001b[0m \u001b[1m228s\u001b[0m 101ms/step - accuracy: 0.9021 - loss: 0.2672 - val_accuracy: 0.9020 - val_loss: 0.2666\n",
      "Epoch 3/6\n",
      "\u001b[1m2250/2250\u001b[0m \u001b[32m━━━━━━━━━━━━━━━━━━━━\u001b[0m\u001b[37m\u001b[0m \u001b[1m263s\u001b[0m 117ms/step - accuracy: 0.9202 - loss: 0.2148 - val_accuracy: 0.9043 - val_loss: 0.2626\n",
      "Epoch 4/6\n",
      "\u001b[1m2250/2250\u001b[0m \u001b[32m━━━━━━━━━━━━━━━━━━━━\u001b[0m\u001b[37m\u001b[0m \u001b[1m226s\u001b[0m 100ms/step - accuracy: 0.9291 - loss: 0.1931 - val_accuracy: 0.9142 - val_loss: 0.2292\n",
      "Epoch 5/6\n",
      "\u001b[1m2250/2250\u001b[0m \u001b[32m━━━━━━━━━━━━━━━━━━━━\u001b[0m\u001b[37m\u001b[0m \u001b[1m227s\u001b[0m 101ms/step - accuracy: 0.9420 - loss: 0.1571 - val_accuracy: 0.9285 - val_loss: 0.1998\n",
      "Epoch 6/6\n",
      "\u001b[1m2250/2250\u001b[0m \u001b[32m━━━━━━━━━━━━━━━━━━━━\u001b[0m\u001b[37m\u001b[0m \u001b[1m223s\u001b[0m 99ms/step - accuracy: 0.9482 - loss: 0.1419 - val_accuracy: 0.9269 - val_loss: 0.2196\n"
     ]
    }
   ],
   "source": [
    "model.compile(optimizer='adam',\n",
    "              loss='categorical_crossentropy',\n",
    "              metrics=['accuracy'])\n",
    "\n",
    "r = model.fit(\n",
    "  train_generator, validation_data=test_generator, epochs=6)"
   ]
  },
  {
   "cell_type": "code",
   "execution_count": 12,
   "id": "38r-R2l5WVKA",
   "metadata": {
    "colab": {
     "base_uri": "https://localhost:8080/"
    },
    "id": "38r-R2l5WVKA",
    "outputId": "fd0ff9ad-1c2a-42e4-89ec-e96229f740b2"
   },
   "outputs": [
    {
     "name": "stdout",
     "output_type": "stream",
     "text": [
      "\u001b[1m313/313\u001b[0m \u001b[32m━━━━━━━━━━━━━━━━━━━━\u001b[0m\u001b[37m\u001b[0m \u001b[1m8s\u001b[0m 23ms/step\n"
     ]
    }
   ],
   "source": [
    "y_pred = model.predict(test_generator, steps=len(test_generator), verbose=1)\n",
    "y_pred_classes = np.argmax(y_pred, axis=1)\n",
    "\n",
    "y_true = np.argmax(test_generator.y_combined, axis=1)"
   ]
  },
  {
   "cell_type": "code",
   "execution_count": 13,
   "id": "R6FPpiESWszh",
   "metadata": {
    "colab": {
     "base_uri": "https://localhost:8080/",
     "height": 780
    },
    "id": "R6FPpiESWszh",
    "outputId": "c519adad-dbc2-4546-89c3-410f192bae53"
   },
   "outputs": [
    {
     "name": "stdout",
     "output_type": "stream",
     "text": [
      "              precision    recall  f1-score   support\n",
      "\n",
      "           0       0.91      0.84      0.87      1000\n",
      "           1       1.00      0.98      0.99      1000\n",
      "           2       0.94      0.87      0.90      1000\n",
      "           3       0.93      0.94      0.93      1000\n",
      "           4       0.83      0.94      0.88      1000\n",
      "           5       0.99      0.99      0.99      1000\n",
      "           6       0.77      0.78      0.77      1000\n",
      "           7       0.98      0.96      0.97      1000\n",
      "           8       0.99      0.99      0.99      1000\n",
      "           9       0.96      0.98      0.97      1000\n",
      "\n",
      "    accuracy                           0.93     10000\n",
      "   macro avg       0.93      0.93      0.93     10000\n",
      "weighted avg       0.93      0.93      0.93     10000\n",
      "\n"
     ]
    },
    {
     "data": {
      "image/png": "[encoded data removed]",
      "text/plain": [
       "<Figure size 432x288 with 2 Axes>"
      ]
     },
     "metadata": {
      "needs_background": "light"
     },
     "output_type": "display_data"
    }
   ],
   "source": [
    "print(classification_report(y_true, y_pred_classes))\n",
    "cm = confusion_matrix(y_true, y_pred_classes)\n",
    "disp = ConfusionMatrixDisplay(confusion_matrix=cm)\n",
    "disp.plot(cmap=plt.cm.Blues)\n",
    "plt.title(\"Confusion Matrix\")\n",
    "plt.show()"
   ]
  },
  {
   "cell_type": "code",
   "execution_count": 14,
   "id": "DTcMYjisWvYx",
   "metadata": {
    "colab": {
     "base_uri": "https://localhost:8080/",
     "height": 508
    },
    "id": "DTcMYjisWvYx",
    "outputId": "15196aee-22d9-4497-c3a3-e33112040888"
   },
   "outputs": [
    {
     "name": "stdout",
     "output_type": "stream",
     "text": [
      "Final Training Accuracy: 0.9476\n",
      "Final Validation Accuracy: 0.9269\n"
     ]
    },
    {
     "data": {
      "image/png": "[encoded data removed]",
      "text/plain": [
       "<Figure size 432x288 with 1 Axes>"
      ]
     },
     "metadata": {
      "needs_background": "light"
     },
     "output_type": "display_data"
    }
   ],
   "source": [
    "print(f\"Final Training Accuracy: {r.history['accuracy'][-1]:.4f}\")\n",
    "print(f\"Final Validation Accuracy: {r.history['val_accuracy'][-1]:.4f}\")\n",
    "plt.plot(r.history['accuracy'], label='Train Accuracy', color = '#4ea2d3')\n",
    "plt.plot(r.history['val_accuracy'], label='Validation Accuracy', color = '#ce1ddd')\n",
    "plt.title(\"Accuracy per Epoch\")\n",
    "plt.xlabel(\"Epoch\")\n",
    "plt.ylabel(\"Accuracy\")\n",
    "plt.legend()\n",
    "epochs = len(r.history['accuracy'])\n",
    "plt.xticks(ticks=range(epochs))\n",
    "plt.grid(True)\n",
    "plt.show()"
   ]
  },
  {
   "cell_type": "markdown",
   "id": "iNp_cvNNW4kF",
   "metadata": {
    "id": "iNp_cvNNW4kF"
   },
   "source": [
    "### max_size_ratio = 0.05, max_number_of_squares = 10"
   ]
  },
  {
   "cell_type": "code",
   "execution_count": 15,
   "id": "agDNHtRsW-2z",
   "metadata": {
    "id": "agDNHtRsW-2z"
   },
   "outputs": [],
   "source": [
    "square_cutout = RandomSquaresCutout(max_size_ratio = 0.05, max_number_of_squares = 10)\n",
    "\n",
    "train_generator = AugmentedCIFAR10Generator(X_train, Y_train, batch_size=32, shuffle=True, augmentor=square_cutout, augment_fraction=0.2, num_classes=10, overwrite=False, soft_label=True)\n",
    "test_generator = AugmentedCIFAR10Generator(X_test, Y_test, batch_size=32, augmentor=None, shuffle=False)\n",
    "\n",
    "k = Y_train.shape[1]\n",
    "i = Input(shape=X_train[0].shape)\n",
    "\n",
    "x = Conv2D(32, (3, 3), activation='relu', padding='same')(i)\n",
    "x = BatchNormalization()(x)\n",
    "x = Conv2D(32, (3, 3), activation='relu', padding='same')(x)\n",
    "x = BatchNormalization()(x)\n",
    "x = MaxPooling2D((2, 2))(x)\n",
    "\n",
    "x = Conv2D(64, (3, 3), activation='relu', padding='same')(x)\n",
    "x = BatchNormalization()(x)\n",
    "x = Conv2D(64, (3, 3), activation='relu', padding='same')(x)\n",
    "x = BatchNormalization()(x)\n",
    "x = MaxPooling2D((2, 2))(x)\n",
    "\n",
    "x = Conv2D(128, (3, 3), activation='relu', padding='same')(x)\n",
    "x = BatchNormalization()(x)\n",
    "x = Conv2D(128, (3, 3), activation='relu', padding='same')(x)\n",
    "x = BatchNormalization()(x)\n",
    "x = MaxPooling2D((2, 2))(x)\n",
    "\n",
    "x = Flatten()(x)\n",
    "x = Dropout(0.2)(x)\n",
    "\n",
    "#hidden layer\n",
    "x = Dense(1024, activation='relu')(x)\n",
    "x = Dropout(0.2)(x)\n",
    "\n",
    "#last hidden layer i.e.. output layer\n",
    "x = Dense(k, activation='softmax')(x)\n",
    "\n",
    "model = Model(i, x)\n"
   ]
  },
  {
   "cell_type": "code",
   "execution_count": 16,
   "id": "Cm7CEOxAXLNd",
   "metadata": {
    "colab": {
     "base_uri": "https://localhost:8080/"
    },
    "id": "Cm7CEOxAXLNd",
    "outputId": "a8263177-c951-494a-a720-cc08f106d1c4"
   },
   "outputs": [
    {
     "name": "stdout",
     "output_type": "stream",
     "text": [
      "Epoch 1/6\n"
     ]
    },
    {
     "name": "stderr",
     "output_type": "stream",
     "text": [
      "C:\\Users\\basiu\\anaconda3\\lib\\site-packages\\keras\\src\\trainers\\data_adapters\\py_dataset_adapter.py:121: UserWarning: Your `PyDataset` class should call `super().__init__(**kwargs)` in its constructor. `**kwargs` can include `workers`, `use_multiprocessing`, `max_queue_size`. Do not pass these arguments to `fit()`, as they will be ignored.\n",
      "  self._warn_if_super_not_called()\n"
     ]
    },
    {
     "name": "stdout",
     "output_type": "stream",
     "text": [
      "\u001b[1m2250/2250\u001b[0m \u001b[32m━━━━━━━━━━━━━━━━━━━━\u001b[0m\u001b[37m\u001b[0m \u001b[1m225s\u001b[0m 98ms/step - accuracy: 0.8164 - loss: 0.5677 - val_accuracy: 0.8965 - val_loss: 0.2857\n",
      "Epoch 2/6\n",
      "\u001b[1m2250/2250\u001b[0m \u001b[32m━━━━━━━━━━━━━━━━━━━━\u001b[0m\u001b[37m\u001b[0m \u001b[1m221s\u001b[0m 98ms/step - accuracy: 0.9001 - loss: 0.2841 - val_accuracy: 0.8807 - val_loss: 0.3656\n",
      "Epoch 3/6\n",
      "\u001b[1m2250/2250\u001b[0m \u001b[32m━━━━━━━━━━━━━━━━━━━━\u001b[0m\u001b[37m\u001b[0m \u001b[1m207s\u001b[0m 92ms/step - accuracy: 0.8921 - loss: 0.3844 - val_accuracy: 0.8670 - val_loss: 0.4507\n",
      "Epoch 4/6\n",
      "\u001b[1m2250/2250\u001b[0m \u001b[32m━━━━━━━━━━━━━━━━━━━━\u001b[0m\u001b[37m\u001b[0m \u001b[1m205s\u001b[0m 91ms/step - accuracy: 0.8687 - loss: 0.9247 - val_accuracy: 0.8630 - val_loss: 0.8611\n",
      "Epoch 5/6\n",
      "\u001b[1m2250/2250\u001b[0m \u001b[32m━━━━━━━━━━━━━━━━━━━━\u001b[0m\u001b[37m\u001b[0m \u001b[1m200s\u001b[0m 89ms/step - accuracy: 0.8541 - loss: 2.4318 - val_accuracy: 0.8265 - val_loss: 4.1828\n",
      "Epoch 6/6\n",
      "\u001b[1m2250/2250\u001b[0m \u001b[32m━━━━━━━━━━━━━━━━━━━━\u001b[0m\u001b[37m\u001b[0m \u001b[1m222s\u001b[0m 99ms/step - accuracy: 0.8121 - loss: 10.1031 - val_accuracy: 0.7253 - val_loss: 17.4550\n"
     ]
    }
   ],
   "source": [
    "model.compile(optimizer='adam',\n",
    "              loss='categorical_crossentropy',\n",
    "              metrics=['accuracy'])\n",
    "\n",
    "r = model.fit(\n",
    "  train_generator, validation_data=test_generator, epochs=6)"
   ]
  },
  {
   "cell_type": "code",
   "execution_count": 17,
   "id": "9GmDizpGXOX8",
   "metadata": {
    "colab": {
     "base_uri": "https://localhost:8080/"
    },
    "id": "9GmDizpGXOX8",
    "outputId": "0697e731-dd22-4f42-f4f0-75946aab7e37"
   },
   "outputs": [
    {
     "name": "stdout",
     "output_type": "stream",
     "text": [
      "\u001b[1m313/313\u001b[0m \u001b[32m━━━━━━━━━━━━━━━━━━━━\u001b[0m\u001b[37m\u001b[0m \u001b[1m7s\u001b[0m 21ms/step\n"
     ]
    }
   ],
   "source": [
    "y_pred = model.predict(test_generator, steps=len(test_generator), verbose=1)\n",
    "y_pred_classes = np.argmax(y_pred, axis=1)\n",
    "\n",
    "y_true = np.argmax(test_generator.y_combined, axis=1)"
   ]
  },
  {
   "cell_type": "code",
   "execution_count": 18,
   "id": "xedHYdznXRif",
   "metadata": {
    "colab": {
     "base_uri": "https://localhost:8080/",
     "height": 780
    },
    "id": "xedHYdznXRif",
    "outputId": "fc658606-0315-477f-dca5-ee5a61ecc0e2"
   },
   "outputs": [
    {
     "name": "stdout",
     "output_type": "stream",
     "text": [
      "              precision    recall  f1-score   support\n",
      "\n",
      "           0       0.69      0.74      0.71      1000\n",
      "           1       0.99      0.91      0.95      1000\n",
      "           2       0.42      0.86      0.56      1000\n",
      "           3       0.76      0.82      0.79      1000\n",
      "           4       0.69      0.42      0.52      1000\n",
      "           5       0.78      0.98      0.87      1000\n",
      "           6       0.49      0.17      0.26      1000\n",
      "           7       0.77      0.89      0.82      1000\n",
      "           8       0.98      0.87      0.92      1000\n",
      "           9       0.97      0.58      0.73      1000\n",
      "\n",
      "    accuracy                           0.73     10000\n",
      "   macro avg       0.75      0.73      0.71     10000\n",
      "weighted avg       0.75      0.73      0.71     10000\n",
      "\n"
     ]
    },
    {
     "data": {
      "image/png": "[encoded data removed]",
      "text/plain": [
       "<Figure size 432x288 with 2 Axes>"
      ]
     },
     "metadata": {
      "needs_background": "light"
     },
     "output_type": "display_data"
    }
   ],
   "source": [
    "print(classification_report(y_true, y_pred_classes))\n",
    "cm = confusion_matrix(y_true, y_pred_classes)\n",
    "disp = ConfusionMatrixDisplay(confusion_matrix=cm)\n",
    "disp.plot(cmap=plt.cm.Blues)\n",
    "plt.title(\"Confusion Matrix\")\n",
    "plt.show()"
   ]
  },
  {
   "cell_type": "code",
   "execution_count": 19,
   "id": "8P2UIWnBXVpm",
   "metadata": {
    "colab": {
     "base_uri": "https://localhost:8080/",
     "height": 508
    },
    "id": "8P2UIWnBXVpm",
    "outputId": "ca5737e3-4c76-49db-84a5-e4f4a37d4b11"
   },
   "outputs": [
    {
     "name": "stdout",
     "output_type": "stream",
     "text": [
      "Final Training Accuracy: 0.8099\n",
      "Final Validation Accuracy: 0.7253\n"
     ]
    },
    {
     "data": {
      "image/png": "[encoded data removed]",
      "text/plain": [
       "<Figure size 432x288 with 1 Axes>"
      ]
     },
     "metadata": {
      "needs_background": "light"
     },
     "output_type": "display_data"
    }
   ],
   "source": [
    "print(f\"Final Training Accuracy: {r.history['accuracy'][-1]:.4f}\")\n",
    "print(f\"Final Validation Accuracy: {r.history['val_accuracy'][-1]:.4f}\")\n",
    "plt.plot(r.history['accuracy'], label='Train Accuracy', color = '#4ea2d3')\n",
    "plt.plot(r.history['val_accuracy'], label='Validation Accuracy', color = '#ce1ddd')\n",
    "plt.title(\"Accuracy per Epoch\")\n",
    "plt.xlabel(\"Epoch\")\n",
    "plt.ylabel(\"Accuracy\")\n",
    "plt.legend()\n",
    "epochs = len(r.history['accuracy'])\n",
    "plt.xticks(ticks=range(epochs))\n",
    "plt.grid(True)\n",
    "plt.show()"
   ]
  }
 ],
 "metadata": {
  "accelerator": "GPU",
  "colab": {
   "gpuType": "T4",
   "provenance": []
  },
  "kernelspec": {
   "display_name": "Python 3 (ipykernel)",
   "language": "python",
   "name": "python3"
  },
  "language_info": {
   "codemirror_mode": {
    "name": "ipython",
    "version": 3
   },
   "file_extension": ".py",
   "mimetype": "text/x-python",
   "name": "python",
   "nbconvert_exporter": "python",
   "pygments_lexer": "ipython3",
   "version": "3.9.12"
  }
 },
 "nbformat": 4,
 "nbformat_minor": 5
}
