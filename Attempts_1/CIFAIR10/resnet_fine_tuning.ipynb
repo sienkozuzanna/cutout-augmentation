{
  "cells": [
    {
      "cell_type": "code",
      "source": [
        "!file /content/cutout-augementation/resnet_model_final.keras"
      ],
      "metadata": {
        "colab": {
          "base_uri": "https://localhost:8080/"
        },
        "id": "28ZevNTwTsLq",
        "outputId": "27e210b5-ed34-4d95-fad0-d9414c7175db"
      },
      "id": "28ZevNTwTsLq",
      "execution_count": 25,
      "outputs": [
        {
          "output_type": "stream",
          "name": "stdout",
          "text": [
            "/content/cutout-augementation/resnet_model_final.keras: Zip archive data, at least v2.0 to extract, compression method=store\n"
          ]
        }
      ]
    },
    {
      "cell_type": "code",
      "execution_count": 26,
      "id": "cbe21af2",
      "metadata": {
        "scrolled": true,
        "id": "cbe21af2"
      },
      "outputs": [],
      "source": [
        "from tensorflow.keras.models import load_model\n",
        "\n",
        "model_path = 'resnet_model_final.keras'\n",
        "model = load_model(model_path)"
      ]
    },
    {
      "cell_type": "code",
      "execution_count": 27,
      "id": "cba61038",
      "metadata": {
        "id": "cba61038"
      },
      "outputs": [],
      "source": [
        "from custom_transformers import SquareCutout, CircleCutout"
      ]
    },
    {
      "cell_type": "code",
      "execution_count": 28,
      "id": "15bff9b1",
      "metadata": {
        "id": "15bff9b1"
      },
      "outputs": [],
      "source": [
        "from torchvision import transforms as T\n",
        "import tensorflow as tf"
      ]
    },
    {
      "cell_type": "code",
      "execution_count": 29,
      "id": "b6b2fa0c",
      "metadata": {
        "id": "b6b2fa0c"
      },
      "outputs": [],
      "source": [
        "from tensorflow.keras.utils import Sequence\n",
        "from tensorflow.keras.applications.resnet50 import preprocess_input\n",
        "import cv2\n",
        "import numpy as np\n",
        "from PIL import Image\n",
        "import random, os,torch"
      ]
    },
    {
      "cell_type": "code",
      "execution_count": 30,
      "id": "15bd1e0f",
      "metadata": {
        "id": "15bd1e0f"
      },
      "outputs": [],
      "source": [
        "def seed_everything(seed: int=42):\n",
        "    random.seed(seed)\n",
        "    os.environ['PYTHONHASHSEED'] = str(seed)\n",
        "    np.random.seed(seed)\n",
        "    torch.manual_seed(seed)\n",
        "    torch.cuda.manual_seed(seed)\n",
        "    torch.cuda.manual_seed_all(seed)\n",
        "    torch.backends.cudnn.deterministic = True\n",
        "    torch.backends.cudnn.benchmark = False\n",
        "\n",
        "\n",
        "seed_everything(42)"
      ]
    },
    {
      "cell_type": "code",
      "execution_count": 31,
      "id": "845e5336",
      "metadata": {
        "scrolled": true,
        "id": "845e5336",
        "outputId": "c5b6deb9-03e9-414e-aed9-8f6896200782",
        "colab": {
          "base_uri": "https://localhost:8080/"
        }
      },
      "outputs": [
        {
          "output_type": "stream",
          "name": "stdout",
          "text": [
            "Downloading data from https://www.cs.toronto.edu/~kriz/cifar-10-python.tar.gz\n",
            "\u001b[1m170498071/170498071\u001b[0m \u001b[32m━━━━━━━━━━━━━━━━━━━━\u001b[0m\u001b[37m\u001b[0m \u001b[1m2s\u001b[0m 0us/step\n",
            "X_train.shape: (50000, 32, 32, 3) \n",
            "Y_train.shape: (50000, 1) \n",
            "X_test.shape: (10000, 32, 32, 3) \n",
            "Y_test.shape: (10000, 1)\n"
          ]
        }
      ],
      "source": [
        "cifar10 = tf.keras.datasets.cifar10\n",
        "\n",
        "(X_train, Y_train), (X_test, Y_test) = cifar10.load_data()\n",
        "print(f\"X_train.shape: {X_train.shape} \\nY_train.shape: {Y_train.shape} \\nX_test.shape: {X_test.shape} \\nY_test.shape: {Y_test.shape}\")\n"
      ]
    },
    {
      "cell_type": "code",
      "execution_count": 32,
      "id": "d4dc104e",
      "metadata": {
        "id": "d4dc104e"
      },
      "outputs": [],
      "source": [
        "\n",
        "class AugmentedCIFAR10ResNetGenerator(Sequence):\n",
        "    def __init__(self, x_data, y_data, batch_size=32, shuffle=True, augmenter=None):\n",
        "        self.x = x_data\n",
        "        self.y = y_data\n",
        "        self.batch_size = batch_size\n",
        "        self.shuffle = shuffle\n",
        "        self.augmenter = augmenter\n",
        "        self.indices = np.arange(len(self.x))\n",
        "\n",
        "    def __len__(self):\n",
        "        return int(np.ceil(len(self.x) / self.batch_size))\n",
        "\n",
        "    def on_epoch_end(self):\n",
        "        if self.shuffle:\n",
        "            np.random.shuffle(self.indices)\n",
        "\n",
        "    def __getitem__(self, index):\n",
        "        batch_indices = self.indices[index * self.batch_size:(index + 1) * self.batch_size]\n",
        "        batch_x = self.x[batch_indices]\n",
        "        batch_y = self.y[batch_indices]\n",
        "\n",
        "        #augmentation using selected augmenter\n",
        "        if self.augmenter:\n",
        "          batch_x_aug = np.array([self.augmenter(img, label)[0] for img, label in zip(batch_x, batch_y)])\n",
        "          #resize each image to 224x224 using OpenCV\n",
        "          batch_x_resized = np.array([cv2.resize(img, (224, 224)) for img in batch_x_aug])\n",
        "        else:\n",
        "          batch_x_resized = np.array([cv2.resize(img, (224, 224)) for img in batch_x]) #resizing the image\n",
        "\n",
        "        #preprocess for ResNet50\n",
        "        batch_x_preprocessed = preprocess_input(batch_x_resized.astype(np.float32))\n",
        "\n",
        "        return batch_x_preprocessed, batch_y\n",
        "\n"
      ]
    },
    {
      "cell_type": "code",
      "execution_count": 33,
      "id": "43917b67",
      "metadata": {
        "id": "43917b67"
      },
      "outputs": [],
      "source": [
        "Y_train = Y_train.squeeze()\n",
        "Y_test = Y_test.squeeze()"
      ]
    },
    {
      "cell_type": "code",
      "execution_count": 34,
      "id": "0ac35471",
      "metadata": {
        "id": "0ac35471"
      },
      "outputs": [],
      "source": [
        "num_samples = len(X_train)\n",
        "subset_size = num_samples // 10  #10% of training data\n",
        "\n",
        "indices = np.random.permutation(num_samples)\n",
        "subset_indices = indices[:subset_size]\n",
        "\n",
        "X_subset = X_train[subset_indices]\n",
        "Y_subset = Y_train[subset_indices]"
      ]
    },
    {
      "cell_type": "code",
      "execution_count": 52,
      "id": "d2587d3f",
      "metadata": {
        "id": "d2587d3f"
      },
      "outputs": [],
      "source": [
        "augmenter = SquareCutout(size=16, color=False)\n",
        "augmented_train_gen = AugmentedCIFAR10ResNetGenerator(X_subset, Y_subset, batch_size=32, augmenter=augmenter)\n",
        "test_gen = AugmentedCIFAR10ResNetGenerator(X_test, Y_test, batch_size=32, shuffle=False, augmenter=None)\n"
      ]
    },
    {
      "cell_type": "code",
      "source": [
        "\n",
        "# train_gen = AugmentedCIFAR10ResNetGenerator(X_train, Y_train, batch_size=32, augmenter=augmenter)\n",
        "\n",
        "history = model.fit(\n",
        "    augmented_train_gen,\n",
        "    validation_data=test_gen,\n",
        "    epochs=5)\n"
      ],
      "metadata": {
        "colab": {
          "base_uri": "https://localhost:8080/",
          "height": 829
        },
        "id": "jgAvKJZvK_nn",
        "outputId": "364c4979-f5cf-4920-9c10-cc6677c30dff"
      },
      "id": "jgAvKJZvK_nn",
      "execution_count": 53,
      "outputs": [
        {
          "output_type": "error",
          "ename": "OverflowError",
          "evalue": "Python integer 768 out of bounds for uint8",
          "traceback": [
            "\u001b[0;31m---------------------------------------------------------------------------\u001b[0m",
            "\u001b[0;31mOverflowError\u001b[0m                             Traceback (most recent call last)",
            "\u001b[0;32m<ipython-input-53-2bf0c4d0ff65>\u001b[0m in \u001b[0;36m<cell line: 0>\u001b[0;34m()\u001b[0m\n\u001b[1;32m      1\u001b[0m \u001b[0;31m# train_gen = AugmentedCIFAR10ResNetGenerator(X_train, Y_train, batch_size=32, augmenter=augmenter)\u001b[0m\u001b[0;34m\u001b[0m\u001b[0;34m\u001b[0m\u001b[0m\n\u001b[1;32m      2\u001b[0m \u001b[0;34m\u001b[0m\u001b[0m\n\u001b[0;32m----> 3\u001b[0;31m history = model.fit(\n\u001b[0m\u001b[1;32m      4\u001b[0m     \u001b[0maugmented_train_gen\u001b[0m\u001b[0;34m,\u001b[0m\u001b[0;34m\u001b[0m\u001b[0;34m\u001b[0m\u001b[0m\n\u001b[1;32m      5\u001b[0m     \u001b[0mvalidation_data\u001b[0m\u001b[0;34m=\u001b[0m\u001b[0mtest_gen\u001b[0m\u001b[0;34m,\u001b[0m\u001b[0;34m\u001b[0m\u001b[0;34m\u001b[0m\u001b[0m\n",
            "\u001b[0;32m/usr/local/lib/python3.11/dist-packages/keras/src/utils/traceback_utils.py\u001b[0m in \u001b[0;36merror_handler\u001b[0;34m(*args, **kwargs)\u001b[0m\n\u001b[1;32m    120\u001b[0m             \u001b[0;31m# To get the full stack trace, call:\u001b[0m\u001b[0;34m\u001b[0m\u001b[0;34m\u001b[0m\u001b[0m\n\u001b[1;32m    121\u001b[0m             \u001b[0;31m# `keras.config.disable_traceback_filtering()`\u001b[0m\u001b[0;34m\u001b[0m\u001b[0;34m\u001b[0m\u001b[0m\n\u001b[0;32m--> 122\u001b[0;31m             \u001b[0;32mraise\u001b[0m \u001b[0me\u001b[0m\u001b[0;34m.\u001b[0m\u001b[0mwith_traceback\u001b[0m\u001b[0;34m(\u001b[0m\u001b[0mfiltered_tb\u001b[0m\u001b[0;34m)\u001b[0m \u001b[0;32mfrom\u001b[0m \u001b[0;32mNone\u001b[0m\u001b[0;34m\u001b[0m\u001b[0;34m\u001b[0m\u001b[0m\n\u001b[0m\u001b[1;32m    123\u001b[0m         \u001b[0;32mfinally\u001b[0m\u001b[0;34m:\u001b[0m\u001b[0;34m\u001b[0m\u001b[0;34m\u001b[0m\u001b[0m\n\u001b[1;32m    124\u001b[0m             \u001b[0;32mdel\u001b[0m \u001b[0mfiltered_tb\u001b[0m\u001b[0;34m\u001b[0m\u001b[0;34m\u001b[0m\u001b[0m\n",
            "\u001b[0;32m<ipython-input-32-3dc352e634e1>\u001b[0m in \u001b[0;36m__getitem__\u001b[0;34m(self, index)\u001b[0m\n\u001b[1;32m     21\u001b[0m \u001b[0;34m\u001b[0m\u001b[0m\n\u001b[1;32m     22\u001b[0m         \u001b[0;31m#augmentation using selected augmenter\u001b[0m\u001b[0;34m\u001b[0m\u001b[0;34m\u001b[0m\u001b[0m\n\u001b[0;32m---> 23\u001b[0;31m         \u001b[0mbatch_x_aug\u001b[0m \u001b[0;34m=\u001b[0m \u001b[0mnp\u001b[0m\u001b[0;34m.\u001b[0m\u001b[0marray\u001b[0m\u001b[0;34m(\u001b[0m\u001b[0;34m[\u001b[0m\u001b[0mself\u001b[0m\u001b[0;34m.\u001b[0m\u001b[0maugmenter\u001b[0m\u001b[0;34m(\u001b[0m\u001b[0mimg\u001b[0m\u001b[0;34m,\u001b[0m \u001b[0mlabel\u001b[0m\u001b[0;34m)\u001b[0m\u001b[0;34m[\u001b[0m\u001b[0;36m0\u001b[0m\u001b[0;34m]\u001b[0m \u001b[0;32mfor\u001b[0m \u001b[0mimg\u001b[0m\u001b[0;34m,\u001b[0m \u001b[0mlabel\u001b[0m \u001b[0;32min\u001b[0m \u001b[0mzip\u001b[0m\u001b[0;34m(\u001b[0m\u001b[0mbatch_x\u001b[0m\u001b[0;34m,\u001b[0m \u001b[0mbatch_y\u001b[0m\u001b[0;34m)\u001b[0m\u001b[0;34m]\u001b[0m\u001b[0;34m)\u001b[0m\u001b[0;34m\u001b[0m\u001b[0;34m\u001b[0m\u001b[0m\n\u001b[0m\u001b[1;32m     24\u001b[0m \u001b[0;34m\u001b[0m\u001b[0m\n\u001b[1;32m     25\u001b[0m         \u001b[0;31m#resize each image to 224x224 using OpenCV\u001b[0m\u001b[0;34m\u001b[0m\u001b[0;34m\u001b[0m\u001b[0m\n",
            "\u001b[0;32m<ipython-input-32-3dc352e634e1>\u001b[0m in \u001b[0;36m<listcomp>\u001b[0;34m(.0)\u001b[0m\n\u001b[1;32m     21\u001b[0m \u001b[0;34m\u001b[0m\u001b[0m\n\u001b[1;32m     22\u001b[0m         \u001b[0;31m#augmentation using selected augmenter\u001b[0m\u001b[0;34m\u001b[0m\u001b[0;34m\u001b[0m\u001b[0m\n\u001b[0;32m---> 23\u001b[0;31m         \u001b[0mbatch_x_aug\u001b[0m \u001b[0;34m=\u001b[0m \u001b[0mnp\u001b[0m\u001b[0;34m.\u001b[0m\u001b[0marray\u001b[0m\u001b[0;34m(\u001b[0m\u001b[0;34m[\u001b[0m\u001b[0mself\u001b[0m\u001b[0;34m.\u001b[0m\u001b[0maugmenter\u001b[0m\u001b[0;34m(\u001b[0m\u001b[0mimg\u001b[0m\u001b[0;34m,\u001b[0m \u001b[0mlabel\u001b[0m\u001b[0;34m)\u001b[0m\u001b[0;34m[\u001b[0m\u001b[0;36m0\u001b[0m\u001b[0;34m]\u001b[0m \u001b[0;32mfor\u001b[0m \u001b[0mimg\u001b[0m\u001b[0;34m,\u001b[0m \u001b[0mlabel\u001b[0m \u001b[0;32min\u001b[0m \u001b[0mzip\u001b[0m\u001b[0;34m(\u001b[0m\u001b[0mbatch_x\u001b[0m\u001b[0;34m,\u001b[0m \u001b[0mbatch_y\u001b[0m\u001b[0;34m)\u001b[0m\u001b[0;34m]\u001b[0m\u001b[0;34m)\u001b[0m\u001b[0;34m\u001b[0m\u001b[0;34m\u001b[0m\u001b[0m\n\u001b[0m\u001b[1;32m     24\u001b[0m \u001b[0;34m\u001b[0m\u001b[0m\n\u001b[1;32m     25\u001b[0m         \u001b[0;31m#resize each image to 224x224 using OpenCV\u001b[0m\u001b[0;34m\u001b[0m\u001b[0;34m\u001b[0m\u001b[0m\n",
            "\u001b[0;32m/content/cutout-augementation/custom_transformers.py\u001b[0m in \u001b[0;36m__call__\u001b[0;34m(self, img, label)\u001b[0m\n\u001b[1;32m    128\u001b[0m         \u001b[0mnum_to_remove\u001b[0m \u001b[0;34m=\u001b[0m \u001b[0mself\u001b[0m\u001b[0;34m.\u001b[0m\u001b[0msize\u001b[0m\u001b[0;34m**\u001b[0m\u001b[0;36m2\u001b[0m\u001b[0;34m\u001b[0m\u001b[0;34m\u001b[0m\u001b[0m\n\u001b[1;32m    129\u001b[0m         \u001b[0mremaining\u001b[0m \u001b[0;34m=\u001b[0m \u001b[0mtotal_pixels\u001b[0m \u001b[0;34m-\u001b[0m \u001b[0mnum_to_remove\u001b[0m\u001b[0;34m\u001b[0m\u001b[0;34m\u001b[0m\u001b[0m\n\u001b[0;32m--> 130\u001b[0;31m         \u001b[0mprint\u001b[0m\u001b[0;34m(\u001b[0m\u001b[0;34mf\"label: {label}, type: {type(label)}\"\u001b[0m\u001b[0;34m)\u001b[0m\u001b[0;34m\u001b[0m\u001b[0;34m\u001b[0m\u001b[0m\n\u001b[0m\u001b[1;32m    131\u001b[0m         \u001b[0mnew_label\u001b[0m \u001b[0;34m=\u001b[0m \u001b[0mlabel\u001b[0m\u001b[0;34m*\u001b[0m \u001b[0mremaining\u001b[0m\u001b[0;34m/\u001b[0m\u001b[0mtotal_pixels\u001b[0m\u001b[0;34m\u001b[0m\u001b[0;34m\u001b[0m\u001b[0m\n\u001b[1;32m    132\u001b[0m \u001b[0;34m\u001b[0m\u001b[0m\n",
            "\u001b[0;31mOverflowError\u001b[0m: Python integer 768 out of bounds for uint8"
          ]
        }
      ]
    },
    {
      "cell_type": "code",
      "source": [],
      "metadata": {
        "id": "txOfl43ul9tN"
      },
      "id": "txOfl43ul9tN",
      "execution_count": null,
      "outputs": []
    }
  ],
  "metadata": {
    "kernelspec": {
      "display_name": "Python 3 (ipykernel)",
      "language": "python",
      "name": "python3"
    },
    "language_info": {
      "codemirror_mode": {
        "name": "ipython",
        "version": 3
      },
      "file_extension": ".py",
      "mimetype": "text/x-python",
      "name": "python",
      "nbconvert_exporter": "python",
      "pygments_lexer": "ipython3",
      "version": "3.9.12"
    },
    "colab": {
      "provenance": []
    }
  },
  "nbformat": 4,
  "nbformat_minor": 5
}